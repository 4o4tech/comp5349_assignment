{
 "cells": [
  {
   "cell_type": "code",
   "execution_count": 41,
   "metadata": {},
   "outputs": [
    {
     "data": {
      "application/vnd.jupyter.widget-view+json": {
       "model_id": "26f621a1c523438e8ea0b26ea0b43730",
       "version_major": 2,
       "version_minor": 0
      },
      "text/plain": [
       "VBox()"
      ]
     },
     "metadata": {},
     "output_type": "display_data"
    },
    {
     "data": {
      "application/vnd.jupyter.widget-view+json": {
       "model_id": "",
       "version_major": 2,
       "version_minor": 0
      },
      "text/plain": [
       "FloatProgress(value=0.0, bar_style='info', description='Progress:', layout=Layout(height='25px', width='50%'),…"
      ]
     },
     "metadata": {},
     "output_type": "display_data"
    }
   ],
   "source": [
    "from pyspark.sql import SparkSession\n",
    "from pyspark.sql import functions as sf"
   ]
  },
  {
   "cell_type": "code",
   "execution_count": 42,
   "metadata": {},
   "outputs": [
    {
     "data": {
      "application/vnd.jupyter.widget-view+json": {
       "model_id": "a0e73d0efe564495a7060d694cf38195",
       "version_major": 2,
       "version_minor": 0
      },
      "text/plain": [
       "VBox()"
      ]
     },
     "metadata": {},
     "output_type": "display_data"
    },
    {
     "data": {
      "application/vnd.jupyter.widget-view+json": {
       "model_id": "",
       "version_major": 2,
       "version_minor": 0
      },
      "text/plain": [
       "FloatProgress(value=0.0, bar_style='info', description='Progress:', layout=Layout(height='25px', width='50%'),…"
      ]
     },
     "metadata": {},
     "output_type": "display_data"
    }
   ],
   "source": [
    "spark = SparkSession \\\n",
    "    .builder \\\n",
    "    .appName(\"Spark Vocabulary statistics\") \\\n",
    "    .getOrCreate()"
   ]
  },
  {
   "cell_type": "markdown",
   "metadata": {},
   "source": [
    " ## 3.1.1  Matched & mismatched set"
   ]
  },
  {
   "cell_type": "code",
   "execution_count": 43,
   "metadata": {},
   "outputs": [
    {
     "data": {
      "application/vnd.jupyter.widget-view+json": {
       "model_id": "233c944473a147c5922832c78d9f885d",
       "version_major": 2,
       "version_minor": 0
      },
      "text/plain": [
       "VBox()"
      ]
     },
     "metadata": {},
     "output_type": "display_data"
    },
    {
     "data": {
      "application/vnd.jupyter.widget-view+json": {
       "model_id": "",
       "version_major": 2,
       "version_minor": 0
      },
      "text/plain": [
       "FloatProgress(value=0.0, bar_style='info', description='Progress:', layout=Layout(height='25px', width='50%'),…"
      ]
     },
     "metadata": {},
     "output_type": "display_data"
    }
   ],
   "source": [
    "data_matched_path = \"s3://multinli/MNLI/dev_matched.tsv\"\n",
    "data_test_path = \"s3://multinli/MNLI/test_matched.tsv\"\n",
    "\n",
    "data_mismatch_path = \"s3://multinli/MNLI/dev_mismatched.tsv\"\n",
    "data_test_mismatch_path = \"s3://multinli/MNLI/test_mismatched.tsv\"\n",
    "\n",
    "stoplist = \"s3://multinli/utils/stopwords.txt\"\n",
    "\n",
    "# path\n",
    "# s3://multinli/MNLI/dev_matched.tsv\n",
    "# s3://multinli/MNLI/test_matched.tsv  \n",
    "# s3://multinli/MNLI/dev_mismatched.tsv\n",
    "# s3://multinli/MNLI/test_mismatched.tsv\n",
    "\n",
    "cols=['genre','sentence1','sentence2']\n",
    "\n",
    "\n",
    "def read_formate(path):\n",
    "    rawData = spark.read.csv(path,header=True,sep='\\t',mode='DROPMALFORMED')\n",
    "    \n",
    "    return rawData.select(cols).cache()\n",
    "\n",
    "\n",
    "getData = read_formate(data_matched_path)\n",
    "getTestData = read_formate(data_test_path)\n",
    "\n",
    "getMismatchDev = read_formate(data_mismatch_path)\n",
    "getMismatchText = read_formate(data_test_mismatch_path)\n"
   ]
  },
  {
   "cell_type": "code",
   "execution_count": 44,
   "metadata": {},
   "outputs": [
    {
     "data": {
      "application/vnd.jupyter.widget-view+json": {
       "model_id": "4c8a2255e406481c90975eb62784b615",
       "version_major": 2,
       "version_minor": 0
      },
      "text/plain": [
       "VBox()"
      ]
     },
     "metadata": {},
     "output_type": "display_data"
    },
    {
     "data": {
      "application/vnd.jupyter.widget-view+json": {
       "model_id": "",
       "version_major": 2,
       "version_minor": 0
      },
      "text/plain": [
       "FloatProgress(value=0.0, bar_style='info', description='Progress:', layout=Layout(height='25px', width='50%'),…"
      ]
     },
     "metadata": {},
     "output_type": "display_data"
    }
   ],
   "source": [
    "# getData.show(5)"
   ]
  },
  {
   "cell_type": "code",
   "execution_count": 45,
   "metadata": {},
   "outputs": [
    {
     "data": {
      "application/vnd.jupyter.widget-view+json": {
       "model_id": "bb05f6cf824b4ce88a024b16a66a8bbf",
       "version_major": 2,
       "version_minor": 0
      },
      "text/plain": [
       "VBox()"
      ]
     },
     "metadata": {},
     "output_type": "display_data"
    },
    {
     "data": {
      "application/vnd.jupyter.widget-view+json": {
       "model_id": "",
       "version_major": 2,
       "version_minor": 0
      },
      "text/plain": [
       "FloatProgress(value=0.0, bar_style='info', description='Progress:', layout=Layout(height='25px', width='50%'),…"
      ]
     },
     "metadata": {},
     "output_type": "display_data"
    }
   ],
   "source": [
    "# concatSentence = getData.withColumn('joined_sentence', sf.concat(sf.col('sentence1'),sf.lit(' '),\\\n",
    "#                                                         sf.col('sentence2'))).cache()\n",
    "\n",
    "def concat2Senten(record):\n",
    "    '''\n",
    "    concat sentence1 and sentence2 together\n",
    "    \n",
    "    '''\n",
    "    return record.withColumn('joined_sentence', sf.concat(sf.col('sentence1'),sf.lit(' '),\\\n",
    "                                                        sf.col('sentence2')))\n",
    "def wordTokenize(record):\n",
    "    '''\n",
    "    lower each letter and word_tokenize\n",
    "    '''\n",
    "    try:\n",
    "        gerne,senten1, senten2,joined_senten = record\n",
    "        lowerW = joined_senten.lower()\n",
    "        tokens = word_tokenize(lowerW)\n",
    "        # remove all tokens that are not alphabetic\n",
    "        words = [word for word in tokens if word.isalpha()]\n",
    "\n",
    "        return words\n",
    "    except:\n",
    "        print(joined_senten)\n",
    "        return ()\n"
   ]
  },
  {
   "cell_type": "code",
   "execution_count": 46,
   "metadata": {},
   "outputs": [
    {
     "data": {
      "application/vnd.jupyter.widget-view+json": {
       "model_id": "57a023442a7f47a985a9bd9b7d1a9658",
       "version_major": 2,
       "version_minor": 0
      },
      "text/plain": [
       "VBox()"
      ]
     },
     "metadata": {},
     "output_type": "display_data"
    },
    {
     "data": {
      "application/vnd.jupyter.widget-view+json": {
       "model_id": "",
       "version_major": 2,
       "version_minor": 0
      },
      "text/plain": [
       "FloatProgress(value=0.0, bar_style='info', description='Progress:', layout=Layout(height='25px', width='50%'),…"
      ]
     },
     "metadata": {},
     "output_type": "display_data"
    }
   ],
   "source": [
    "# concatSentence.show(5)"
   ]
  },
  {
   "cell_type": "code",
   "execution_count": 47,
   "metadata": {},
   "outputs": [
    {
     "data": {
      "application/vnd.jupyter.widget-view+json": {
       "model_id": "9e4cb386bff44eb395840855f84a7259",
       "version_major": 2,
       "version_minor": 0
      },
      "text/plain": [
       "VBox()"
      ]
     },
     "metadata": {},
     "output_type": "display_data"
    },
    {
     "data": {
      "application/vnd.jupyter.widget-view+json": {
       "model_id": "",
       "version_major": 2,
       "version_minor": 0
      },
      "text/plain": [
       "FloatProgress(value=0.0, bar_style='info', description='Progress:', layout=Layout(height='25px', width='50%'),…"
      ]
     },
     "metadata": {},
     "output_type": "display_data"
    }
   ],
   "source": [
    "from nltk.tokenize import word_tokenize\n",
    "\n",
    "concatSentence = concat2Senten(getData)\n",
    "concatSentenceTest = concat2Senten(getTestData)\n",
    "\n",
    "# union dev and test set together\n",
    "uniMatch = concatSentence.union(concatSentenceTest)\n",
    "\n",
    "uniMatchwords = uniMatch.rdd.flatMap(wordTokenize)\n"
   ]
  },
  {
   "cell_type": "code",
   "execution_count": 49,
   "metadata": {},
   "outputs": [
    {
     "data": {
      "application/vnd.jupyter.widget-view+json": {
       "model_id": "6c4c8d1b02594bacac272b33c5d649c3",
       "version_major": 2,
       "version_minor": 0
      },
      "text/plain": [
       "VBox()"
      ]
     },
     "metadata": {},
     "output_type": "display_data"
    },
    {
     "data": {
      "application/vnd.jupyter.widget-view+json": {
       "model_id": "",
       "version_major": 2,
       "version_minor": 0
      },
      "text/plain": [
       "FloatProgress(value=0.0, bar_style='info', description='Progress:', layout=Layout(height='25px', width='50%'),…"
      ]
     },
     "metadata": {},
     "output_type": "display_data"
    },
    {
     "name": "stdout",
     "output_type": "stream",
     "text": [
      "'\\n1. stopWords.value read Stanford stop list from \\n2. getValues stopList to list\\n3. remove some stopwords\\n'"
     ]
    }
   ],
   "source": [
    "'''\n",
    "1. stopWords.value read Stanford stop list from \n",
    "2. getValues stopList to list\n",
    "3. remove some stopwords\n",
    "'''\n",
    "\n",
    "# stopWords = spark.read.text(stoplist)\n",
    "# stopList = stopWords.rdd.map(lambda e: e.value).collect()\n",
    "# #remove some stop words\n",
    "# clearMatchwords = uniMatchwords.filter(lambda word : word not in stopList and word[0] != '')"
   ]
  },
  {
   "cell_type": "code",
   "execution_count": 50,
   "metadata": {},
   "outputs": [
    {
     "data": {
      "application/vnd.jupyter.widget-view+json": {
       "model_id": "11d98c14fc36435c8d820ca7155a5a2c",
       "version_major": 2,
       "version_minor": 0
      },
      "text/plain": [
       "VBox()"
      ]
     },
     "metadata": {},
     "output_type": "display_data"
    },
    {
     "data": {
      "application/vnd.jupyter.widget-view+json": {
       "model_id": "",
       "version_major": 2,
       "version_minor": 0
      },
      "text/plain": [
       "FloatProgress(value=0.0, bar_style='info', description='Progress:', layout=Layout(height='25px', width='50%'),…"
      ]
     },
     "metadata": {},
     "output_type": "display_data"
    }
   ],
   "source": [
    "matchWordCount = uniMatchwords.map(lambda word: (word, 1)) \\\n",
    "    .reduceByKey(lambda a, b: a + b).cache() # count each words\n",
    "# wordSorted = countWord.sortBy(lambda x: x[1], ascending=False).cache() #sort by counted value "
   ]
  },
  {
   "cell_type": "code",
   "execution_count": 51,
   "metadata": {},
   "outputs": [
    {
     "data": {
      "application/vnd.jupyter.widget-view+json": {
       "model_id": "2710d794182242a2833dce454c7588c1",
       "version_major": 2,
       "version_minor": 0
      },
      "text/plain": [
       "VBox()"
      ]
     },
     "metadata": {},
     "output_type": "display_data"
    },
    {
     "data": {
      "application/vnd.jupyter.widget-view+json": {
       "model_id": "",
       "version_major": 2,
       "version_minor": 0
      },
      "text/plain": [
       "FloatProgress(value=0.0, bar_style='info', description='Progress:', layout=Layout(height='25px', width='50%'),…"
      ]
     },
     "metadata": {},
     "output_type": "display_data"
    },
    {
     "name": "stdout",
     "output_type": "stream",
     "text": [
      "[('really', 643), ('sometimes', 147), ('like', 1380), ('but', 2433), ('favorite', 88)]"
     ]
    }
   ],
   "source": [
    "matchWordCount.take(5) #get matchWordCount"
   ]
  },
  {
   "cell_type": "markdown",
   "metadata": {},
   "source": [
    "### Mistmatch word"
   ]
  },
  {
   "cell_type": "code",
   "execution_count": 52,
   "metadata": {},
   "outputs": [
    {
     "data": {
      "application/vnd.jupyter.widget-view+json": {
       "model_id": "a89fe8e49941427ea7ee9c9f6eab3c80",
       "version_major": 2,
       "version_minor": 0
      },
      "text/plain": [
       "VBox()"
      ]
     },
     "metadata": {},
     "output_type": "display_data"
    },
    {
     "data": {
      "application/vnd.jupyter.widget-view+json": {
       "model_id": "",
       "version_major": 2,
       "version_minor": 0
      },
      "text/plain": [
       "FloatProgress(value=0.0, bar_style='info', description='Progress:', layout=Layout(height='25px', width='50%'),…"
      ]
     },
     "metadata": {},
     "output_type": "display_data"
    }
   ],
   "source": [
    "concatSentence = concat2Senten(getMismatchDev).cache()\n",
    "concatSentenceTest = concat2Senten(getMismatchText).cache()\n",
    "# union dev and test set together\n",
    "uniMismatch = concatSentence.union(concatSentenceTest)\n",
    "\n",
    "# uniMismatch.count()\n",
    "\n",
    "uniMismatchWords = uniMismatch.rdd.flatMap(wordTokenize)\n",
    "\n",
    "\n",
    "#remove some stop words\n",
    "#clearMismatchWords = uniMismatchWords.filter(lambda word : word not in stopList and word[0] != '')\n",
    "\n",
    "mismatchWord = uniMismatchWords.map(lambda word: (word, 1)) \\\n",
    "    .reduceByKey(lambda a, b: a + b).cache() # count each words\n"
   ]
  },
  {
   "cell_type": "code",
   "execution_count": 54,
   "metadata": {},
   "outputs": [
    {
     "data": {
      "application/vnd.jupyter.widget-view+json": {
       "model_id": "2f5b38c8982b4f288788e9c4ae43dc34",
       "version_major": 2,
       "version_minor": 0
      },
      "text/plain": [
       "VBox()"
      ]
     },
     "metadata": {},
     "output_type": "display_data"
    },
    {
     "data": {
      "application/vnd.jupyter.widget-view+json": {
       "model_id": "",
       "version_major": 2,
       "version_minor": 0
      },
      "text/plain": [
       "FloatProgress(value=0.0, bar_style='info', description='Progress:', layout=Layout(height='25px', width='50%'),…"
      ]
     },
     "metadata": {},
     "output_type": "display_data"
    }
   ],
   "source": [
    "# allMatchWords = matchWordCount.keys().collect()\n",
    "# allMisWords = mismatchWord.keys().collect()\n",
    "\n",
    "interWords = mismatchWord.join(matchWordCount)"
   ]
  },
  {
   "cell_type": "markdown",
   "metadata": {},
   "source": [
    "### Common words in  matched   & mismatched sets"
   ]
  },
  {
   "cell_type": "code",
   "execution_count": 58,
   "metadata": {},
   "outputs": [
    {
     "data": {
      "application/vnd.jupyter.widget-view+json": {
       "model_id": "3c1fd6e72dbf45e287a77bd25a782077",
       "version_major": 2,
       "version_minor": 0
      },
      "text/plain": [
       "VBox()"
      ]
     },
     "metadata": {},
     "output_type": "display_data"
    },
    {
     "data": {
      "application/vnd.jupyter.widget-view+json": {
       "model_id": "",
       "version_major": 2,
       "version_minor": 0
      },
      "text/plain": [
       "FloatProgress(value=0.0, bar_style='info', description='Progress:', layout=Layout(height='25px', width='50%'),…"
      ]
     },
     "metadata": {},
     "output_type": "display_data"
    },
    {
     "name": "stdout",
     "output_type": "stream",
     "text": [
      " Common words between  matched & mismatched sets: 8953"
     ]
    }
   ],
   "source": [
    "commonNum = interWords.count()\n",
    "print(\" Common words between  matched & mismatched sets: {}\"\\\n",
    "      .format(commonNum))"
   ]
  },
  {
   "cell_type": "markdown",
   "metadata": {},
   "source": [
    "### Unique words in matched sets , mismatched sets"
   ]
  },
  {
   "cell_type": "code",
   "execution_count": 56,
   "metadata": {},
   "outputs": [
    {
     "data": {
      "application/vnd.jupyter.widget-view+json": {
       "model_id": "1ff063126e2f469e9e05022c9995f52e",
       "version_major": 2,
       "version_minor": 0
      },
      "text/plain": [
       "VBox()"
      ]
     },
     "metadata": {},
     "output_type": "display_data"
    },
    {
     "data": {
      "application/vnd.jupyter.widget-view+json": {
       "model_id": "",
       "version_major": 2,
       "version_minor": 0
      },
      "text/plain": [
       "FloatProgress(value=0.0, bar_style='info', description='Progress:', layout=Layout(height='25px', width='50%'),…"
      ]
     },
     "metadata": {},
     "output_type": "display_data"
    },
    {
     "name": "stdout",
     "output_type": "stream",
     "text": [
      " mismatchedUniNum: 9094. mismatchedUniNum is: 6411"
     ]
    }
   ],
   "source": [
    "matchedUniNum =  matchWordCount.count() - commonNum\n",
    "mismatchedUniNum = mismatchWord.count() - commonNum\n",
    "\n",
    "print(\" mismatchedUniNum: {}. mismatchedUniNum is: {}\".\\\n",
    "      format(matchedUniNum, mismatchedUniNum ))"
   ]
  },
  {
   "cell_type": "markdown",
   "metadata": {},
   "source": [
    "##  3.1.2 Taining data set  Component Analysis\n"
   ]
  },
  {
   "cell_type": "code",
   "execution_count": 1,
   "metadata": {},
   "outputs": [
    {
     "data": {
      "application/vnd.jupyter.widget-view+json": {
       "model_id": "5813a6ca666c4b97a47d3207d302580f",
       "version_major": 2,
       "version_minor": 0
      },
      "text/plain": [
       "VBox()"
      ]
     },
     "metadata": {},
     "output_type": "display_data"
    },
    {
     "name": "stdout",
     "output_type": "stream",
     "text": [
      "Starting Spark application\n"
     ]
    },
    {
     "data": {
      "text/html": [
       "<table>\n",
       "<tr><th>ID</th><th>YARN Application ID</th><th>Kind</th><th>State</th><th>Spark UI</th><th>Driver log</th><th>Current session?</th></tr><tr><td>7</td><td>application_1589760400522_0008</td><td>pyspark</td><td>idle</td><td><a target=\"_blank\" href=\"http://ip-172-31-22-102.ec2.internal:20888/proxy/application_1589760400522_0008/\">Link</a></td><td><a target=\"_blank\" href=\"http://ip-172-31-22-102.ec2.internal:8042/node/containerlogs/container_1589760400522_0008_01_000001/livy\">Link</a></td><td>✔</td></tr></table>"
      ],
      "text/plain": [
       "<IPython.core.display.HTML object>"
      ]
     },
     "metadata": {},
     "output_type": "display_data"
    },
    {
     "data": {
      "application/vnd.jupyter.widget-view+json": {
       "model_id": "",
       "version_major": 2,
       "version_minor": 0
      },
      "text/plain": [
       "FloatProgress(value=0.0, bar_style='info', description='Progress:', layout=Layout(height='25px', width='50%'),…"
      ]
     },
     "metadata": {},
     "output_type": "display_data"
    },
    {
     "name": "stdout",
     "output_type": "stream",
     "text": [
      "SparkSession available as 'spark'.\n"
     ]
    },
    {
     "data": {
      "application/vnd.jupyter.widget-view+json": {
       "model_id": "",
       "version_major": 2,
       "version_minor": 0
      },
      "text/plain": [
       "FloatProgress(value=0.0, bar_style='info', description='Progress:', layout=Layout(height='25px', width='50%'),…"
      ]
     },
     "metadata": {},
     "output_type": "display_data"
    }
   ],
   "source": [
    "from pyspark.sql import SparkSession\n",
    "from nltk.tokenize import word_tokenize\n",
    "from pyspark.sql import functions as sf\n",
    "\n",
    "ss = SparkSession \\\n",
    "    .builder \\\n",
    "    .appName(\"Taining Dataset Component Analysis\") \\\n",
    "    .getOrCreate()\n"
   ]
  },
  {
   "cell_type": "code",
   "execution_count": 2,
   "metadata": {},
   "outputs": [
    {
     "data": {
      "application/vnd.jupyter.widget-view+json": {
       "model_id": "cf21c8aa432747409693684c61bc8748",
       "version_major": 2,
       "version_minor": 0
      },
      "text/plain": [
       "VBox()"
      ]
     },
     "metadata": {},
     "output_type": "display_data"
    },
    {
     "data": {
      "application/vnd.jupyter.widget-view+json": {
       "model_id": "",
       "version_major": 2,
       "version_minor": 0
      },
      "text/plain": [
       "FloatProgress(value=0.0, bar_style='info', description='Progress:', layout=Layout(height='25px', width='50%'),…"
      ]
     },
     "metadata": {},
     "output_type": "display_data"
    }
   ],
   "source": [
    "\n",
    "def concat2Senten1(record):\n",
    "    '''\n",
    "    concat sentence1 and sentence2 together\n",
    "    \n",
    "    '''   \n",
    "    return  record.withColumn('joined_sentence', sf.concat(sf.col('sentence1'),sf.lit(' '),\\\n",
    "                                                        sf.col('sentence2')))\n",
    "\n",
    "def read_formate(path):\n",
    "    rawData = ss.read.csv(path,header=True,sep='\\t',mode='DROPMALFORMED')\n",
    "    \n",
    "    return rawData.select(cols)\n",
    "\n",
    "def wordPair(record):\n",
    "    '''\n",
    "    lower each letter and word_tokenize, or remove stop words\n",
    "    '''\n",
    "    try:\n",
    "        gerne,joined_senten = record\n",
    "        \n",
    "        lowerW = joined_senten.lower()\n",
    "        \n",
    "        tokens = word_tokenize(lowerW)\n",
    "        # remove all tokens that are not alphabetic\n",
    "#         words = [(word,1) for word in tokens if word.isalpha()]\n",
    "        \n",
    "        wordsPair = []\n",
    "        for word in tokens:\n",
    "            if word.isalpha():\n",
    "                wordsPair.append((word,gerne))\n",
    "            \n",
    "        return wordsPair\n",
    "    except:\n",
    "        print(joined_senten)\n",
    "        return ()\n",
    "    \n"
   ]
  },
  {
   "cell_type": "code",
   "execution_count": 4,
   "metadata": {},
   "outputs": [
    {
     "data": {
      "application/vnd.jupyter.widget-view+json": {
       "model_id": "4752a76d44224643b6f7792d1825b44a",
       "version_major": 2,
       "version_minor": 0
      },
      "text/plain": [
       "VBox()"
      ]
     },
     "metadata": {},
     "output_type": "display_data"
    },
    {
     "data": {
      "application/vnd.jupyter.widget-view+json": {
       "model_id": "",
       "version_major": 2,
       "version_minor": 0
      },
      "text/plain": [
       "FloatProgress(value=0.0, bar_style='info', description='Progress:', layout=Layout(height='25px', width='50%'),…"
      ]
     },
     "metadata": {},
     "output_type": "display_data"
    }
   ],
   "source": [
    "data_train_path = \"s3://multinli/MNLI/train.tsv\"\n",
    "\n",
    "cols=['genre','sentence1','sentence2']\n",
    "\n",
    "train_data = read_formate(data_train_path)\n",
    "\n",
    "\n",
    "concat_sentence = train_data.withColumn('joined_sentence', sf.concat(sf.col('sentence1'),sf.lit(''),\\\n",
    "                                                        sf.col('sentence2')))\n"
   ]
  },
  {
   "cell_type": "code",
   "execution_count": 5,
   "metadata": {},
   "outputs": [
    {
     "data": {
      "application/vnd.jupyter.widget-view+json": {
       "model_id": "b14fa67d2a3542a0a0e68ef3627d4c8e",
       "version_major": 2,
       "version_minor": 0
      },
      "text/plain": [
       "VBox()"
      ]
     },
     "metadata": {},
     "output_type": "display_data"
    },
    {
     "data": {
      "application/vnd.jupyter.widget-view+json": {
       "model_id": "",
       "version_major": 2,
       "version_minor": 0
      },
      "text/plain": [
       "FloatProgress(value=0.0, bar_style='info', description='Progress:', layout=Layout(height='25px', width='50%'),…"
      ]
     },
     "metadata": {},
     "output_type": "display_data"
    }
   ],
   "source": [
    "# select 'genre','joined_sentence'\n",
    "selectData = concat_sentence.select(['genre','joined_sentence']).cache()\n",
    "# selectData.take(5)"
   ]
  },
  {
   "cell_type": "code",
   "execution_count": 6,
   "metadata": {},
   "outputs": [
    {
     "data": {
      "application/vnd.jupyter.widget-view+json": {
       "model_id": "7337703179684d33b9f990b838c30241",
       "version_major": 2,
       "version_minor": 0
      },
      "text/plain": [
       "VBox()"
      ]
     },
     "metadata": {},
     "output_type": "display_data"
    },
    {
     "data": {
      "application/vnd.jupyter.widget-view+json": {
       "model_id": "",
       "version_major": 2,
       "version_minor": 0
      },
      "text/plain": [
       "FloatProgress(value=0.0, bar_style='info', description='Progress:', layout=Layout(height='25px', width='50%'),…"
      ]
     },
     "metadata": {},
     "output_type": "display_data"
    }
   ],
   "source": [
    "#pair (word,genre) word to each genre\n",
    "pairedWordGenre = selectData.rdd.flatMap(wordPair)\n",
    "# pairedWordGenre.take(5)"
   ]
  },
  {
   "cell_type": "code",
   "execution_count": 7,
   "metadata": {},
   "outputs": [
    {
     "data": {
      "application/vnd.jupyter.widget-view+json": {
       "model_id": "65b8818f402a43fdbb108696e501cf25",
       "version_major": 2,
       "version_minor": 0
      },
      "text/plain": [
       "VBox()"
      ]
     },
     "metadata": {},
     "output_type": "display_data"
    },
    {
     "data": {
      "application/vnd.jupyter.widget-view+json": {
       "model_id": "",
       "version_major": 2,
       "version_minor": 0
      },
      "text/plain": [
       "FloatProgress(value=0.0, bar_style='info', description='Progress:', layout=Layout(height='25px', width='50%'),…"
      ]
     },
     "metadata": {},
     "output_type": "display_data"
    }
   ],
   "source": [
    "reDuplicted = pairedWordGenre.distinct().cache()"
   ]
  },
  {
   "cell_type": "code",
   "execution_count": 8,
   "metadata": {},
   "outputs": [
    {
     "data": {
      "application/vnd.jupyter.widget-view+json": {
       "model_id": "a545c88068c84a6f9b1a0c13806b13fc",
       "version_major": 2,
       "version_minor": 0
      },
      "text/plain": [
       "VBox()"
      ]
     },
     "metadata": {},
     "output_type": "display_data"
    },
    {
     "data": {
      "application/vnd.jupyter.widget-view+json": {
       "model_id": "",
       "version_major": 2,
       "version_minor": 0
      },
      "text/plain": [
       "FloatProgress(value=0.0, bar_style='info', description='Progress:', layout=Layout(height='25px', width='50%'),…"
      ]
     },
     "metadata": {},
     "output_type": "display_data"
    },
    {
     "name": "stdout",
     "output_type": "stream",
     "text": [
      "[('skimming', 'government'), ('product', 'government'), ('replace', 'telephone'), ('things', 'telephone'), ('your', 'fiction')]"
     ]
    }
   ],
   "source": [
    "reDuplicted.take(5) # remain unique words"
   ]
  },
  {
   "cell_type": "code",
   "execution_count": 12,
   "metadata": {},
   "outputs": [
    {
     "data": {
      "application/vnd.jupyter.widget-view+json": {
       "model_id": "a31491e229304b6699cea0748282ccba",
       "version_major": 2,
       "version_minor": 0
      },
      "text/plain": [
       "VBox()"
      ]
     },
     "metadata": {},
     "output_type": "display_data"
    },
    {
     "data": {
      "application/vnd.jupyter.widget-view+json": {
       "model_id": "",
       "version_major": 2,
       "version_minor": 0
      },
      "text/plain": [
       "FloatProgress(value=0.0, bar_style='info', description='Progress:', layout=Layout(height='25px', width='50%'),…"
      ]
     },
     "metadata": {},
     "output_type": "display_data"
    },
    {
     "name": "stdout",
     "output_type": "stream",
     "text": [
      "[('opinion', 5), ('interesting', 5), ('category', 5), ('manager', 5), ('where', 5), ('far', 5), ('like', 5), ('but', 5), ('imagination', 5), ('invest', 4)]"
     ]
    }
   ],
   "source": [
    "#  word pair  genres number\n",
    "combineGenreWord = reDuplicted.map(lambda x:(x[0],1))\\\n",
    "                              .reduceByKey(lambda a, b: a + b).cache()\n",
    "# combineGenreWord.take(10)"
   ]
  },
  {
   "cell_type": "markdown",
   "metadata": {},
   "source": [
    "### all unique words in train set"
   ]
  },
  {
   "cell_type": "code",
   "execution_count": 10,
   "metadata": {},
   "outputs": [
    {
     "data": {
      "application/vnd.jupyter.widget-view+json": {
       "model_id": "5561988a574a47c8ac3cd68ba1dadc76",
       "version_major": 2,
       "version_minor": 0
      },
      "text/plain": [
       "VBox()"
      ]
     },
     "metadata": {},
     "output_type": "display_data"
    },
    {
     "data": {
      "application/vnd.jupyter.widget-view+json": {
       "model_id": "",
       "version_major": 2,
       "version_minor": 0
      },
      "text/plain": [
       "FloatProgress(value=0.0, bar_style='info', description='Progress:', layout=Layout(height='25px', width='50%'),…"
      ]
     },
     "metadata": {},
     "output_type": "display_data"
    },
    {
     "name": "stdout",
     "output_type": "stream",
     "text": [
      "95541"
     ]
    }
   ],
   "source": [
    "# all words in train set\n",
    "allWordsCount = combineGenreWord.count()\n",
    "allWordsCount"
   ]
  },
  {
   "cell_type": "code",
   "execution_count": 15,
   "metadata": {},
   "outputs": [
    {
     "data": {
      "application/vnd.jupyter.widget-view+json": {
       "model_id": "aa274d53fd78446d999e8dcdd9304ba5",
       "version_major": 2,
       "version_minor": 0
      },
      "text/plain": [
       "VBox()"
      ]
     },
     "metadata": {},
     "output_type": "display_data"
    },
    {
     "data": {
      "application/vnd.jupyter.widget-view+json": {
       "model_id": "",
       "version_major": 2,
       "version_minor": 0
      },
      "text/plain": [
       "FloatProgress(value=0.0, bar_style='info', description='Progress:', layout=Layout(height='25px', width='50%'),…"
      ]
     },
     "metadata": {},
     "output_type": "display_data"
    },
    {
     "name": "stdout",
     "output_type": "stream",
     "text": [
      "[(1, 66414), (2, 10583), (3, 6163), (4, 5003), (5, 7378)]"
     ]
    }
   ],
   "source": [
    "#  number of genres => count word number\n",
    "combineGenre = combineGenreWord.map(lambda x: (x[1],1))\\\n",
    "                               .reduceByKey(lambda a, b: a + b).collect()\n",
    "combineGenre"
   ]
  },
  {
   "cell_type": "code",
   "execution_count": 29,
   "metadata": {},
   "outputs": [
    {
     "data": {
      "application/vnd.jupyter.widget-view+json": {
       "model_id": "067509a97aa8405bb1b00437b7160b65",
       "version_major": 2,
       "version_minor": 0
      },
      "text/plain": [
       "VBox()"
      ]
     },
     "metadata": {},
     "output_type": "display_data"
    },
    {
     "data": {
      "application/vnd.jupyter.widget-view+json": {
       "model_id": "",
       "version_major": 2,
       "version_minor": 0
      },
      "text/plain": [
       "FloatProgress(value=0.0, bar_style='info', description='Progress:', layout=Layout(height='25px', width='50%'),…"
      ]
     },
     "metadata": {},
     "output_type": "display_data"
    },
    {
     "name": "stdout",
     "output_type": "stream",
     "text": [
      "There are 66414 words in 1 Genre. The percentage is 69.5136\n",
      "There are 10583 words in 2 Genre. The percentage is 11.0769\n",
      "There are 6163 words in 3 Genre. The percentage is 6.4506\n",
      "There are 5003 words in 4 Genre. The percentage is 5.2365\n",
      "There are 7378 words in 5 Genre. The percentage is 7.7223"
     ]
    }
   ],
   "source": [
    "for i in combineGenre:\n",
    "    print( 'There are ' + str(i[1]) +' words in ' + str(i[0]) +\\\n",
    "         ' Genre. The percentage is %2.4f'%((i[1]/allWordsCount) *100) )"
   ]
  },
  {
   "cell_type": "markdown",
   "metadata": {},
   "source": [
    "#### remove stop words"
   ]
  },
  {
   "cell_type": "code",
   "execution_count": 30,
   "metadata": {},
   "outputs": [
    {
     "data": {
      "application/vnd.jupyter.widget-view+json": {
       "model_id": "10c980213dd343159bd0da0caf934937",
       "version_major": 2,
       "version_minor": 0
      },
      "text/plain": [
       "VBox()"
      ]
     },
     "metadata": {},
     "output_type": "display_data"
    },
    {
     "data": {
      "application/vnd.jupyter.widget-view+json": {
       "model_id": "",
       "version_major": 2,
       "version_minor": 0
      },
      "text/plain": [
       "FloatProgress(value=0.0, bar_style='info', description='Progress:', layout=Layout(height='25px', width='50%'),…"
      ]
     },
     "metadata": {},
     "output_type": "display_data"
    }
   ],
   "source": [
    "# stop words\n",
    "stoplist = \"s3://multinli/utils/stopwords.txt\" # Standford stopwords list in S3 Storage\n",
    "stopWords = ss.read.text(stoplist)\n",
    "stopList = stopWords.rdd.map(lambda e: e.value).collect()"
   ]
  },
  {
   "cell_type": "code",
   "execution_count": 32,
   "metadata": {},
   "outputs": [
    {
     "data": {
      "application/vnd.jupyter.widget-view+json": {
       "model_id": "c2ae257c1ed94403b6277342ba08790e",
       "version_major": 2,
       "version_minor": 0
      },
      "text/plain": [
       "VBox()"
      ]
     },
     "metadata": {},
     "output_type": "display_data"
    },
    {
     "data": {
      "application/vnd.jupyter.widget-view+json": {
       "model_id": "",
       "version_major": 2,
       "version_minor": 0
      },
      "text/plain": [
       "FloatProgress(value=0.0, bar_style='info', description='Progress:', layout=Layout(height='25px', width='50%'),…"
      ]
     },
     "metadata": {},
     "output_type": "display_data"
    }
   ],
   "source": [
    "# filter remove stop words \n",
    "filteredWordPair = combineGenreWord.filter(lambda x: x[0] not in stopList)"
   ]
  },
  {
   "cell_type": "code",
   "execution_count": 63,
   "metadata": {},
   "outputs": [
    {
     "data": {
      "application/vnd.jupyter.widget-view+json": {
       "model_id": "e524740540c449f2b909ddcceda2f627",
       "version_major": 2,
       "version_minor": 0
      },
      "text/plain": [
       "VBox()"
      ]
     },
     "metadata": {},
     "output_type": "display_data"
    },
    {
     "data": {
      "application/vnd.jupyter.widget-view+json": {
       "model_id": "",
       "version_major": 2,
       "version_minor": 0
      },
      "text/plain": [
       "FloatProgress(value=0.0, bar_style='info', description='Progress:', layout=Layout(height='25px', width='50%'),…"
      ]
     },
     "metadata": {},
     "output_type": "display_data"
    },
    {
     "name": "stdout",
     "output_type": "stream",
     "text": [
      "Remove 148 stop words"
     ]
    }
   ],
   "source": [
    "filterWordsCount  = filteredWordPair.count()\n",
    "\n",
    "\n",
    "removedNum= allWordsCount - filterWordsCount \n",
    "print(\"Remove {} stop words\"\\\n",
    "      .format(removedNum))"
   ]
  },
  {
   "cell_type": "code",
   "execution_count": 35,
   "metadata": {},
   "outputs": [
    {
     "data": {
      "application/vnd.jupyter.widget-view+json": {
       "model_id": "efa4e335a3f8471b802abb07e3ae8a0e",
       "version_major": 2,
       "version_minor": 0
      },
      "text/plain": [
       "VBox()"
      ]
     },
     "metadata": {},
     "output_type": "display_data"
    },
    {
     "data": {
      "application/vnd.jupyter.widget-view+json": {
       "model_id": "",
       "version_major": 2,
       "version_minor": 0
      },
      "text/plain": [
       "FloatProgress(value=0.0, bar_style='info', description='Progress:', layout=Layout(height='25px', width='50%'),…"
      ]
     },
     "metadata": {},
     "output_type": "display_data"
    },
    {
     "name": "stdout",
     "output_type": "stream",
     "text": [
      "[(1, 66408), (2, 10579), (3, 6160), (4, 4995), (5, 7251)]"
     ]
    }
   ],
   "source": [
    "filterGenre = filteredWordPair.map(lambda x: (x[1],1))\\\n",
    "                               .reduceByKey(lambda a, b: a + b).collect()\n",
    "filterGenre"
   ]
  },
  {
   "cell_type": "code",
   "execution_count": 64,
   "metadata": {},
   "outputs": [
    {
     "data": {
      "application/vnd.jupyter.widget-view+json": {
       "model_id": "3d6eeb57737d4fea9aa447c5d39f9acd",
       "version_major": 2,
       "version_minor": 0
      },
      "text/plain": [
       "VBox()"
      ]
     },
     "metadata": {},
     "output_type": "display_data"
    },
    {
     "data": {
      "application/vnd.jupyter.widget-view+json": {
       "model_id": "",
       "version_major": 2,
       "version_minor": 0
      },
      "text/plain": [
       "FloatProgress(value=0.0, bar_style='info', description='Progress:', layout=Layout(height='25px', width='50%'),…"
      ]
     },
     "metadata": {},
     "output_type": "display_data"
    },
    {
     "name": "stdout",
     "output_type": "stream",
     "text": [
      "After remove Stop words, There are 66408 words in 1 Genre. The percentage is 69.6152\n",
      "After remove Stop words, There are 10579 words in 2 Genre. The percentage is 11.0899\n",
      "After remove Stop words, There are 6160 words in 3 Genre. The percentage is 6.4575\n",
      "After remove Stop words, There are 4995 words in 4 Genre. The percentage is 5.2362\n",
      "After remove Stop words, There are 7251 words in 5 Genre. The percentage is 7.6012"
     ]
    }
   ],
   "source": [
    "for i in filterGenre:\n",
    "    print( 'After remove Stop words, There are ' + str(i[1]) +' words in ' + str(i[0]) +\\\n",
    "         ' Genre. The percentage is %2.4f' %((i[1]/filterWordsCount) *100) )"
   ]
  },
  {
   "cell_type": "code",
   "execution_count": null,
   "metadata": {},
   "outputs": [],
   "source": []
  },
  {
   "cell_type": "code",
   "execution_count": null,
   "metadata": {},
   "outputs": [],
   "source": []
  }
 ],
 "metadata": {
  "kernelspec": {
   "display_name": "PySpark",
   "language": "",
   "name": "pysparkkernel"
  },
  "language_info": {
   "codemirror_mode": {
    "name": "python",
    "version": 2
   },
   "mimetype": "text/x-python",
   "name": "pyspark",
   "pygments_lexer": "python2"
  },
  "widgets": {
   "application/vnd.jupyter.widget-state+json": {
    "state": {
     "03989ff934484d1e91c43d254917fe59": {
      "model_module": "@jupyter-widgets/base",
      "model_module_version": "1.2.0",
      "model_name": "LayoutModel",
      "state": {
       "height": "25px",
       "width": "50%"
      }
     },
     "04d52cc4d8b94bfa929095744bc5f5b2": {
      "model_module": "@jupyter-widgets/controls",
      "model_module_version": "1.5.0",
      "model_name": "VBoxModel",
      "state": {
       "children": [
        "IPY_MODEL_50cb8de8bb344eeabaf372a2e2585557"
       ],
       "layout": "IPY_MODEL_85867d9957144eacbbdeb66f2138d20f"
      }
     },
     "0628a85d186e40f0ab0efd2597f29028": {
      "model_module": "@jupyter-widgets/base",
      "model_module_version": "1.2.0",
      "model_name": "LayoutModel",
      "state": {
       "height": "25px",
       "width": "50%"
      }
     },
     "08e6b0b608144a6dac0f9204e8c6e4de": {
      "model_module": "@jupyter-widgets/base",
      "model_module_version": "1.2.0",
      "model_name": "LayoutModel",
      "state": {
       "max_height": "500px",
       "overflow_y": "scroll"
      }
     },
     "09443cc7034143d0b2bbb1eca4585eb3": {
      "model_module": "@jupyter-widgets/controls",
      "model_module_version": "1.5.0",
      "model_name": "VBoxModel",
      "state": {
       "layout": "IPY_MODEL_ab28ba1b7dc445e1a3c22ae6cf1d892c"
      }
     },
     "099b8cc79f42426493d2c874aae09707": {
      "model_module": "@jupyter-widgets/controls",
      "model_module_version": "1.5.0",
      "model_name": "ProgressStyleModel",
      "state": {
       "description_width": ""
      }
     },
     "0b4c02fc8bea498f9293c066f30159c5": {
      "model_module": "@jupyter-widgets/base",
      "model_module_version": "1.2.0",
      "model_name": "LayoutModel",
      "state": {}
     },
     "0c0ec370439d46008e954893e297d0d3": {
      "model_module": "@jupyter-widgets/base",
      "model_module_version": "1.2.0",
      "model_name": "LayoutModel",
      "state": {}
     },
     "0f04ea214bee46e9a506d2f115dc6ed9": {
      "model_module": "@jupyter-widgets/controls",
      "model_module_version": "1.5.0",
      "model_name": "AccordionModel",
      "state": {
       "_titles": {
        "0": "Spark Job Progress"
       },
       "children": [
        "IPY_MODEL_e48e95539c454f3485af65a030a6915b"
       ],
       "layout": "IPY_MODEL_9a1d3a403b0245cb96b0a75ff07f5971",
       "selected_index": null
      }
     },
     "0f3f7c5ef28f43eba718c56a05610338": {
      "model_module": "@jupyter-widgets/base",
      "model_module_version": "1.2.0",
      "model_name": "LayoutModel",
      "state": {
       "max_height": "500px",
       "overflow_y": "scroll"
      }
     },
     "120b5a8d6ddb40a28c21558176e3016d": {
      "model_module": "@jupyter-widgets/base",
      "model_module_version": "1.2.0",
      "model_name": "LayoutModel",
      "state": {}
     },
     "12ac1276b30547c09cb19bab683eaf43": {
      "model_module": "@jupyter-widgets/base",
      "model_module_version": "1.2.0",
      "model_name": "LayoutModel",
      "state": {
       "max_height": "500px",
       "overflow_y": "scroll"
      }
     },
     "13135ca5367848e7a2e2c9b02c67ff11": {
      "model_module": "@jupyter-widgets/base",
      "model_module_version": "1.2.0",
      "model_name": "LayoutModel",
      "state": {}
     },
     "1643cb35631a4ef9841240e2dd16536d": {
      "model_module": "@jupyter-widgets/base",
      "model_module_version": "1.2.0",
      "model_name": "LayoutModel",
      "state": {}
     },
     "166fd551a61c43a8a359b9e347aaa92a": {
      "model_module": "@jupyter-widgets/controls",
      "model_module_version": "1.5.0",
      "model_name": "ProgressStyleModel",
      "state": {
       "description_width": ""
      }
     },
     "16cc2722bb514512bfcc101d5957d767": {
      "model_module": "@jupyter-widgets/controls",
      "model_module_version": "1.5.0",
      "model_name": "VBoxModel",
      "state": {
       "layout": "IPY_MODEL_5e84330941544758beb417e2ee33ed7f"
      }
     },
     "1770b649bc6a49aa9e9de0977ff3ef97": {
      "model_module": "@jupyter-widgets/base",
      "model_module_version": "1.2.0",
      "model_name": "LayoutModel",
      "state": {}
     },
     "181872168fdf45038c5a67668a5edbc0": {
      "model_module": "@jupyter-widgets/base",
      "model_module_version": "1.2.0",
      "model_name": "LayoutModel",
      "state": {
       "height": "25px",
       "width": "50%"
      }
     },
     "18abea7685c74801a6e147850208a0c9": {
      "model_module": "@jupyter-widgets/controls",
      "model_module_version": "1.5.0",
      "model_name": "ProgressStyleModel",
      "state": {
       "description_width": ""
      }
     },
     "1f5e757f086b41ba8f57cb04be3803ba": {
      "model_module": "@jupyter-widgets/controls",
      "model_module_version": "1.5.0",
      "model_name": "VBoxModel",
      "state": {
       "layout": "IPY_MODEL_d0a1f18c250449b1a7d66dc676e60bbd"
      }
     },
     "1ff917daba294f278634967d2a5df576": {
      "model_module": "@jupyter-widgets/base",
      "model_module_version": "1.2.0",
      "model_name": "LayoutModel",
      "state": {}
     },
     "20a999b59db2420f804893936302ba8d": {
      "model_module": "@jupyter-widgets/base",
      "model_module_version": "1.2.0",
      "model_name": "LayoutModel",
      "state": {
       "max_height": "500px",
       "overflow_y": "scroll"
      }
     },
     "212e20b5c0ae4ea5b0903d58e010ed41": {
      "model_module": "@jupyter-widgets/controls",
      "model_module_version": "1.5.0",
      "model_name": "ProgressStyleModel",
      "state": {
       "description_width": ""
      }
     },
     "22321b91428b47399c29007d23ba272e": {
      "model_module": "@jupyter-widgets/controls",
      "model_module_version": "1.5.0",
      "model_name": "VBoxModel",
      "state": {
       "children": [
        "IPY_MODEL_de40bc45550547b6aee0c1af83bb7648"
       ],
       "layout": "IPY_MODEL_d6bdfcef2e5841cc9aee91b3c727dd7e"
      }
     },
     "22809993d5c14e8fa2515c02131916c2": {
      "model_module": "@jupyter-widgets/controls",
      "model_module_version": "1.5.0",
      "model_name": "ProgressStyleModel",
      "state": {
       "description_width": ""
      }
     },
     "278f33e1084246e6b7acf7dd23f5a9cb": {
      "model_module": "@jupyter-widgets/controls",
      "model_module_version": "1.5.0",
      "model_name": "VBoxModel",
      "state": {
       "layout": "IPY_MODEL_e820b6d7593646dd92f7ee4b5799e0b4"
      }
     },
     "2c1e709c12854086a844dd9286d0aa02": {
      "model_module": "@jupyter-widgets/base",
      "model_module_version": "1.2.0",
      "model_name": "LayoutModel",
      "state": {}
     },
     "2c2ceb28a2984877b05adb54650e1339": {
      "model_module": "@jupyter-widgets/controls",
      "model_module_version": "1.5.0",
      "model_name": "VBoxModel",
      "state": {
       "layout": "IPY_MODEL_75fe7b5891d44c0989550d9324d87402"
      }
     },
     "2c53af46c3c644f48cc314973a3c49ea": {
      "model_module": "@jupyter-widgets/base",
      "model_module_version": "1.2.0",
      "model_name": "LayoutModel",
      "state": {}
     },
     "30d18be44613479299de7d95fbcc68d9": {
      "model_module": "@jupyter-widgets/base",
      "model_module_version": "1.2.0",
      "model_name": "LayoutModel",
      "state": {}
     },
     "33670f83ae324d309bf41c7bb2ec2527": {
      "model_module": "@jupyter-widgets/controls",
      "model_module_version": "1.5.0",
      "model_name": "VBoxModel",
      "state": {
       "layout": "IPY_MODEL_30d18be44613479299de7d95fbcc68d9"
      }
     },
     "39549075e83545be8197a1bc998a83f0": {
      "model_module": "@jupyter-widgets/base",
      "model_module_version": "1.2.0",
      "model_name": "LayoutModel",
      "state": {}
     },
     "3b3eadabb28741e3983312c89c319eb6": {
      "model_module": "@jupyter-widgets/base",
      "model_module_version": "1.2.0",
      "model_name": "LayoutModel",
      "state": {
       "height": "25px",
       "width": "50%"
      }
     },
     "3c9dcb19ce004e9a962dda42ab8fc229": {
      "model_module": "@jupyter-widgets/base",
      "model_module_version": "1.2.0",
      "model_name": "LayoutModel",
      "state": {}
     },
     "3cfcfa49230447abb7618e46da856b88": {
      "model_module": "@jupyter-widgets/controls",
      "model_module_version": "1.5.0",
      "model_name": "AccordionModel",
      "state": {
       "_titles": {
        "0": "Spark Job Progress"
       },
       "children": [
        "IPY_MODEL_3d28b888d21d4c9298bc2bec786f87f2"
       ],
       "layout": "IPY_MODEL_8593c189b01148778d04cb218414cddf",
       "selected_index": null
      }
     },
     "3d28b888d21d4c9298bc2bec786f87f2": {
      "model_module": "@jupyter-widgets/controls",
      "model_module_version": "1.5.0",
      "model_name": "VBoxModel",
      "state": {
       "children": [
        "IPY_MODEL_824f96d68ae5465bbc4efb786f7168e7"
       ],
       "layout": "IPY_MODEL_2c1e709c12854086a844dd9286d0aa02"
      }
     },
     "3e79b38978084847871a80755527cf68": {
      "model_module": "@jupyter-widgets/controls",
      "model_module_version": "1.5.0",
      "model_name": "ProgressStyleModel",
      "state": {
       "description_width": ""
      }
     },
     "3fa8bbf8b7a442619584cfa08f974f19": {
      "model_module": "@jupyter-widgets/base",
      "model_module_version": "1.2.0",
      "model_name": "LayoutModel",
      "state": {}
     },
     "3fb4d2aff1d443449b8af72925fd7ff1": {
      "model_module": "@jupyter-widgets/controls",
      "model_module_version": "1.5.0",
      "model_name": "VBoxModel",
      "state": {
       "layout": "IPY_MODEL_bb6384c130814e00915cf06986be2556"
      }
     },
     "44860a36140041d48a92d559932d3813": {
      "model_module": "@jupyter-widgets/controls",
      "model_module_version": "1.5.0",
      "model_name": "VBoxModel",
      "state": {
       "layout": "IPY_MODEL_49495e33c8144a77ace4515a37956f02"
      }
     },
     "49495e33c8144a77ace4515a37956f02": {
      "model_module": "@jupyter-widgets/base",
      "model_module_version": "1.2.0",
      "model_name": "LayoutModel",
      "state": {}
     },
     "4d2825453f744c06bef94f210456eb1e": {
      "model_module": "@jupyter-widgets/controls",
      "model_module_version": "1.5.0",
      "model_name": "VBoxModel",
      "state": {
       "layout": "IPY_MODEL_20a999b59db2420f804893936302ba8d"
      }
     },
     "508e376f649d4cd1b841cdb7dfee353c": {
      "model_module": "@jupyter-widgets/controls",
      "model_module_version": "1.5.0",
      "model_name": "ProgressStyleModel",
      "state": {
       "description_width": ""
      }
     },
     "50cb8de8bb344eeabaf372a2e2585557": {
      "model_module": "@jupyter-widgets/controls",
      "model_module_version": "1.5.0",
      "model_name": "VBoxModel",
      "state": {
       "layout": "IPY_MODEL_d8163d4fcc7e434a8198bd6a5be219fc"
      }
     },
     "53ea1f3a92674d68b30128128352d183": {
      "model_module": "@jupyter-widgets/base",
      "model_module_version": "1.2.0",
      "model_name": "LayoutModel",
      "state": {
       "height": "25px",
       "width": "50%"
      }
     },
     "58680caaf91d47a5989eb22354480681": {
      "model_module": "@jupyter-widgets/controls",
      "model_module_version": "1.5.0",
      "model_name": "VBoxModel",
      "state": {
       "layout": "IPY_MODEL_eeeddaa66f9247f1b1241a4b7826dcf3"
      }
     },
     "58b5373e3f0c47f880562752b70d8946": {
      "model_module": "@jupyter-widgets/controls",
      "model_module_version": "1.5.0",
      "model_name": "VBoxModel",
      "state": {
       "layout": "IPY_MODEL_92dc70d2db054b46b32a2506e1e726a8"
      }
     },
     "59ab9170b2274a598df84b663261ac1e": {
      "model_module": "@jupyter-widgets/base",
      "model_module_version": "1.2.0",
      "model_name": "LayoutModel",
      "state": {
       "max_height": "500px",
       "overflow_y": "scroll"
      }
     },
     "5a5ae66e1f6645dba1bb8df5ade9251a": {
      "model_module": "@jupyter-widgets/controls",
      "model_module_version": "1.5.0",
      "model_name": "ProgressStyleModel",
      "state": {
       "description_width": ""
      }
     },
     "5e15da3ff63f40e293759263ab5fd62b": {
      "model_module": "@jupyter-widgets/controls",
      "model_module_version": "1.5.0",
      "model_name": "VBoxModel",
      "state": {
       "layout": "IPY_MODEL_c65e50b318ad4f1d9e9c1291ed276f8c"
      }
     },
     "5e84330941544758beb417e2ee33ed7f": {
      "model_module": "@jupyter-widgets/base",
      "model_module_version": "1.2.0",
      "model_name": "LayoutModel",
      "state": {}
     },
     "5f13bb918c60405e8ba618802d5baafc": {
      "model_module": "@jupyter-widgets/base",
      "model_module_version": "1.2.0",
      "model_name": "LayoutModel",
      "state": {}
     },
     "637db840aeb14f3286ac04e34e7839be": {
      "model_module": "@jupyter-widgets/controls",
      "model_module_version": "1.5.0",
      "model_name": "VBoxModel",
      "state": {
       "layout": "IPY_MODEL_12ac1276b30547c09cb19bab683eaf43"
      }
     },
     "63a137053c0d464e867646b9ae68bf42": {
      "model_module": "@jupyter-widgets/controls",
      "model_module_version": "1.5.0",
      "model_name": "AccordionModel",
      "state": {
       "_titles": {
        "0": "Spark Job Progress"
       },
       "children": [
        "IPY_MODEL_8076612199aa46368260a07d5b5bfa08"
       ],
       "layout": "IPY_MODEL_766e4dab0a9948f88b647a8237d8845b",
       "selected_index": null
      }
     },
     "6533c703b29d47348d72e9ceec763ec2": {
      "model_module": "@jupyter-widgets/base",
      "model_module_version": "1.2.0",
      "model_name": "LayoutModel",
      "state": {}
     },
     "65e49c653cc44898be4be0a4fa1b6287": {
      "model_module": "@jupyter-widgets/controls",
      "model_module_version": "1.5.0",
      "model_name": "ProgressStyleModel",
      "state": {
       "description_width": ""
      }
     },
     "6657b67c97824220bd643826090f30c2": {
      "model_module": "@jupyter-widgets/controls",
      "model_module_version": "1.5.0",
      "model_name": "VBoxModel",
      "state": {
       "layout": "IPY_MODEL_ebf349d80acb4e0189b877ab5ffe92d6"
      }
     },
     "696de6bc28e44b6eaec675a948f257e5": {
      "model_module": "@jupyter-widgets/base",
      "model_module_version": "1.2.0",
      "model_name": "LayoutModel",
      "state": {}
     },
     "6ac59d8999674dea8c3c4600c1bf57b7": {
      "model_module": "@jupyter-widgets/base",
      "model_module_version": "1.2.0",
      "model_name": "LayoutModel",
      "state": {
       "height": "25px",
       "width": "50%"
      }
     },
     "6e4e39e717624e4db5a3a9d937ff0e5e": {
      "model_module": "@jupyter-widgets/base",
      "model_module_version": "1.2.0",
      "model_name": "LayoutModel",
      "state": {}
     },
     "6fd4aa6ef9b4425d84093b61a8b24dfd": {
      "model_module": "@jupyter-widgets/controls",
      "model_module_version": "1.5.0",
      "model_name": "VBoxModel",
      "state": {
       "children": [
        "IPY_MODEL_09443cc7034143d0b2bbb1eca4585eb3"
       ],
       "layout": "IPY_MODEL_cdf14f108eb0441c8e7e674bb2cd259a"
      }
     },
     "742b0dbf588946bd9500c6ffa841c22e": {
      "model_module": "@jupyter-widgets/controls",
      "model_module_version": "1.5.0",
      "model_name": "AccordionModel",
      "state": {
       "_titles": {
        "0": "Spark Job Progress"
       },
       "children": [
        "IPY_MODEL_fee6d40225a94ffb875793b03d1d602e"
       ],
       "layout": "IPY_MODEL_d54b00878df746ad91d35da811da03f8",
       "selected_index": null
      }
     },
     "75fe7b5891d44c0989550d9324d87402": {
      "model_module": "@jupyter-widgets/base",
      "model_module_version": "1.2.0",
      "model_name": "LayoutModel",
      "state": {}
     },
     "766e4dab0a9948f88b647a8237d8845b": {
      "model_module": "@jupyter-widgets/base",
      "model_module_version": "1.2.0",
      "model_name": "LayoutModel",
      "state": {}
     },
     "773ac255cde041018b45a79051290d6e": {
      "model_module": "@jupyter-widgets/base",
      "model_module_version": "1.2.0",
      "model_name": "LayoutModel",
      "state": {}
     },
     "77f7a2b923f64de4b040abacb702c588": {
      "model_module": "@jupyter-widgets/controls",
      "model_module_version": "1.5.0",
      "model_name": "VBoxModel",
      "state": {
       "layout": "IPY_MODEL_0f3f7c5ef28f43eba718c56a05610338"
      }
     },
     "793239cee80c4e92a800b8f44c5ec63d": {
      "model_module": "@jupyter-widgets/controls",
      "model_module_version": "1.5.0",
      "model_name": "AccordionModel",
      "state": {
       "_titles": {
        "0": "Spark Job Progress"
       },
       "children": [
        "IPY_MODEL_a3dcc6d22d194d10839bd2f02010d792"
       ],
       "layout": "IPY_MODEL_c78d8a929b9548b8b04a9c75a3a5ccad",
       "selected_index": null
      }
     },
     "7aa74835097e42c6b3aa14167c4c52f4": {
      "model_module": "@jupyter-widgets/controls",
      "model_module_version": "1.5.0",
      "model_name": "ProgressStyleModel",
      "state": {
       "description_width": ""
      }
     },
     "7b924e5fd077499ab786f381812cf023": {
      "model_module": "@jupyter-widgets/controls",
      "model_module_version": "1.5.0",
      "model_name": "ProgressStyleModel",
      "state": {
       "description_width": ""
      }
     },
     "7daadfb283c2468a9849b957a831cf3b": {
      "model_module": "@jupyter-widgets/controls",
      "model_module_version": "1.5.0",
      "model_name": "VBoxModel",
      "state": {
       "children": [
        "IPY_MODEL_58680caaf91d47a5989eb22354480681"
       ],
       "layout": "IPY_MODEL_39549075e83545be8197a1bc998a83f0"
      }
     },
     "7ef50b37bf634b949ef5a542fe94c34e": {
      "model_module": "@jupyter-widgets/controls",
      "model_module_version": "1.5.0",
      "model_name": "VBoxModel",
      "state": {
       "children": [
        "IPY_MODEL_637db840aeb14f3286ac04e34e7839be"
       ],
       "layout": "IPY_MODEL_1643cb35631a4ef9841240e2dd16536d"
      }
     },
     "80344be415a94d68a008a01721a12e41": {
      "model_module": "@jupyter-widgets/controls",
      "model_module_version": "1.5.0",
      "model_name": "AccordionModel",
      "state": {
       "_titles": {
        "0": "Spark Job Progress"
       },
       "children": [
        "IPY_MODEL_d41901d26c964cf7814133884780c798"
       ],
       "layout": "IPY_MODEL_cf99aca6a01a49be990b0bb70463a1b3",
       "selected_index": null
      }
     },
     "8076612199aa46368260a07d5b5bfa08": {
      "model_module": "@jupyter-widgets/controls",
      "model_module_version": "1.5.0",
      "model_name": "VBoxModel",
      "state": {
       "children": [
        "IPY_MODEL_f22bac3c938742bba79bd24cd124f32f"
       ],
       "layout": "IPY_MODEL_13135ca5367848e7a2e2c9b02c67ff11"
      }
     },
     "824f96d68ae5465bbc4efb786f7168e7": {
      "model_module": "@jupyter-widgets/controls",
      "model_module_version": "1.5.0",
      "model_name": "VBoxModel",
      "state": {
       "layout": "IPY_MODEL_08e6b0b608144a6dac0f9204e8c6e4de"
      }
     },
     "85867d9957144eacbbdeb66f2138d20f": {
      "model_module": "@jupyter-widgets/base",
      "model_module_version": "1.2.0",
      "model_name": "LayoutModel",
      "state": {}
     },
     "8593c189b01148778d04cb218414cddf": {
      "model_module": "@jupyter-widgets/base",
      "model_module_version": "1.2.0",
      "model_name": "LayoutModel",
      "state": {}
     },
     "86719e016949426fb16699e0bed8e9de": {
      "model_module": "@jupyter-widgets/controls",
      "model_module_version": "1.5.0",
      "model_name": "VBoxModel",
      "state": {
       "layout": "IPY_MODEL_0c0ec370439d46008e954893e297d0d3"
      }
     },
     "885d9b9859544044ae97be745d053f9b": {
      "model_module": "@jupyter-widgets/base",
      "model_module_version": "1.2.0",
      "model_name": "LayoutModel",
      "state": {}
     },
     "88a3e110a1b8477aa7952c025b66ce3d": {
      "model_module": "@jupyter-widgets/base",
      "model_module_version": "1.2.0",
      "model_name": "LayoutModel",
      "state": {}
     },
     "89d939fce58c49a8ab2f8137b8884d9d": {
      "model_module": "@jupyter-widgets/controls",
      "model_module_version": "1.5.0",
      "model_name": "AccordionModel",
      "state": {
       "_titles": {
        "0": "Spark Job Progress"
       },
       "children": [
        "IPY_MODEL_6fd4aa6ef9b4425d84093b61a8b24dfd"
       ],
       "layout": "IPY_MODEL_a5da4c8555e94aad9de9632fe78ed503",
       "selected_index": null
      }
     },
     "8a144b5679be45658d62366b6f8316f5": {
      "model_module": "@jupyter-widgets/base",
      "model_module_version": "1.2.0",
      "model_name": "LayoutModel",
      "state": {
       "height": "25px",
       "width": "50%"
      }
     },
     "8bca5563721d40038026904f8984b7cb": {
      "model_module": "@jupyter-widgets/base",
      "model_module_version": "1.2.0",
      "model_name": "LayoutModel",
      "state": {
       "max_height": "500px",
       "overflow_y": "scroll"
      }
     },
     "8c903cf894774198ba1725f3ea984532": {
      "model_module": "@jupyter-widgets/base",
      "model_module_version": "1.2.0",
      "model_name": "LayoutModel",
      "state": {
       "max_height": "500px",
       "overflow_y": "scroll"
      }
     },
     "924d91da42e646b48174ff8a5a967413": {
      "model_module": "@jupyter-widgets/controls",
      "model_module_version": "1.5.0",
      "model_name": "ProgressStyleModel",
      "state": {
       "description_width": ""
      }
     },
     "92ba55f9ef3240a5b8750fa2aa817c06": {
      "model_module": "@jupyter-widgets/controls",
      "model_module_version": "1.5.0",
      "model_name": "VBoxModel",
      "state": {
       "children": [
        "IPY_MODEL_b3e5eafc6c64427fa2559cbf3732e0ea"
       ],
       "layout": "IPY_MODEL_696de6bc28e44b6eaec675a948f257e5"
      }
     },
     "92dc70d2db054b46b32a2506e1e726a8": {
      "model_module": "@jupyter-widgets/base",
      "model_module_version": "1.2.0",
      "model_name": "LayoutModel",
      "state": {}
     },
     "945d65dbc5c3414184bff133b9ec152d": {
      "model_module": "@jupyter-widgets/controls",
      "model_module_version": "1.5.0",
      "model_name": "VBoxModel",
      "state": {
       "layout": "IPY_MODEL_6e4e39e717624e4db5a3a9d937ff0e5e"
      }
     },
     "9507947b614246e48e07418ec81110ee": {
      "model_module": "@jupyter-widgets/base",
      "model_module_version": "1.2.0",
      "model_name": "LayoutModel",
      "state": {
       "height": "25px",
       "width": "50%"
      }
     },
     "96eafece24fc44fc9aabfc9dfad21143": {
      "model_module": "@jupyter-widgets/base",
      "model_module_version": "1.2.0",
      "model_name": "LayoutModel",
      "state": {
       "height": "25px",
       "width": "50%"
      }
     },
     "99057309802240839f90ad736a6776e9": {
      "model_module": "@jupyter-widgets/controls",
      "model_module_version": "1.5.0",
      "model_name": "AccordionModel",
      "state": {
       "_titles": {
        "0": "Spark Job Progress"
       },
       "children": [
        "IPY_MODEL_cbe6133fd63a4b11810e5091c56c0322"
       ],
       "layout": "IPY_MODEL_0b4c02fc8bea498f9293c066f30159c5",
       "selected_index": null
      }
     },
     "99ef0cffab26489cb9f401a0e4da225c": {
      "model_module": "@jupyter-widgets/base",
      "model_module_version": "1.2.0",
      "model_name": "LayoutModel",
      "state": {
       "max_height": "500px",
       "overflow_y": "scroll"
      }
     },
     "9a1d3a403b0245cb96b0a75ff07f5971": {
      "model_module": "@jupyter-widgets/base",
      "model_module_version": "1.2.0",
      "model_name": "LayoutModel",
      "state": {}
     },
     "9dfc9b30545e443fa79a7f7793c1e0e4": {
      "model_module": "@jupyter-widgets/controls",
      "model_module_version": "1.5.0",
      "model_name": "AccordionModel",
      "state": {
       "_titles": {
        "0": "Spark Job Progress"
       },
       "children": [
        "IPY_MODEL_92ba55f9ef3240a5b8750fa2aa817c06"
       ],
       "layout": "IPY_MODEL_d4c63c7a4fcc4012845e5e7bedef0b7b",
       "selected_index": null
      }
     },
     "a38beac150b34d819edb795a83c4e865": {
      "model_module": "@jupyter-widgets/controls",
      "model_module_version": "1.5.0",
      "model_name": "AccordionModel",
      "state": {
       "_titles": {
        "0": "Spark Job Progress"
       },
       "children": [
        "IPY_MODEL_22321b91428b47399c29007d23ba272e"
       ],
       "layout": "IPY_MODEL_d73efd580eef4b7ba5fa1d1629bcd026",
       "selected_index": null
      }
     },
     "a3c493012d7348e0b1a01c19de3af658": {
      "model_module": "@jupyter-widgets/base",
      "model_module_version": "1.2.0",
      "model_name": "LayoutModel",
      "state": {
       "max_height": "500px",
       "overflow_y": "scroll"
      }
     },
     "a3dcc6d22d194d10839bd2f02010d792": {
      "model_module": "@jupyter-widgets/controls",
      "model_module_version": "1.5.0",
      "model_name": "VBoxModel",
      "state": {
       "children": [
        "IPY_MODEL_b0834ae2744f43c0829ba0b319078581"
       ],
       "layout": "IPY_MODEL_e5a289b7b5224fdb8b8c0ee7f11b0ccd"
      }
     },
     "a53a5ab64ae44b459de2e7db793e8a20": {
      "model_module": "@jupyter-widgets/base",
      "model_module_version": "1.2.0",
      "model_name": "LayoutModel",
      "state": {
       "height": "25px",
       "width": "50%"
      }
     },
     "a5da4c8555e94aad9de9632fe78ed503": {
      "model_module": "@jupyter-widgets/base",
      "model_module_version": "1.2.0",
      "model_name": "LayoutModel",
      "state": {}
     },
     "a65580c67f934fc18d9b2f62940c6b7b": {
      "model_module": "@jupyter-widgets/base",
      "model_module_version": "1.2.0",
      "model_name": "LayoutModel",
      "state": {
       "max_height": "500px",
       "overflow_y": "scroll"
      }
     },
     "a67a0497d2dc4ec8a64b8a9374f9c142": {
      "model_module": "@jupyter-widgets/base",
      "model_module_version": "1.2.0",
      "model_name": "LayoutModel",
      "state": {
       "height": "25px",
       "width": "50%"
      }
     },
     "a9bc1721ec064ac5b67096c8124d83d9": {
      "model_module": "@jupyter-widgets/controls",
      "model_module_version": "1.5.0",
      "model_name": "VBoxModel",
      "state": {
       "layout": "IPY_MODEL_8bca5563721d40038026904f8984b7cb"
      }
     },
     "aaf657e365f64d02a3448a06705dc438": {
      "model_module": "@jupyter-widgets/base",
      "model_module_version": "1.2.0",
      "model_name": "LayoutModel",
      "state": {}
     },
     "ab28ba1b7dc445e1a3c22ae6cf1d892c": {
      "model_module": "@jupyter-widgets/base",
      "model_module_version": "1.2.0",
      "model_name": "LayoutModel",
      "state": {
       "max_height": "500px",
       "overflow_y": "scroll"
      }
     },
     "afe803e8b866492396b2ee6f713d5e81": {
      "model_module": "@jupyter-widgets/base",
      "model_module_version": "1.2.0",
      "model_name": "LayoutModel",
      "state": {}
     },
     "b0834ae2744f43c0829ba0b319078581": {
      "model_module": "@jupyter-widgets/controls",
      "model_module_version": "1.5.0",
      "model_name": "VBoxModel",
      "state": {
       "layout": "IPY_MODEL_99ef0cffab26489cb9f401a0e4da225c"
      }
     },
     "b3e5eafc6c64427fa2559cbf3732e0ea": {
      "model_module": "@jupyter-widgets/controls",
      "model_module_version": "1.5.0",
      "model_name": "VBoxModel",
      "state": {
       "layout": "IPY_MODEL_59ab9170b2274a598df84b663261ac1e"
      }
     },
     "b49a55bcae3d4ae8bdf62e80460edc47": {
      "model_module": "@jupyter-widgets/controls",
      "model_module_version": "1.5.0",
      "model_name": "VBoxModel",
      "state": {
       "layout": "IPY_MODEL_88a3e110a1b8477aa7952c025b66ce3d"
      }
     },
     "b4a632187f5e40208972524829609359": {
      "model_module": "@jupyter-widgets/base",
      "model_module_version": "1.2.0",
      "model_name": "LayoutModel",
      "state": {}
     },
     "bb6384c130814e00915cf06986be2556": {
      "model_module": "@jupyter-widgets/base",
      "model_module_version": "1.2.0",
      "model_name": "LayoutModel",
      "state": {}
     },
     "bd5cea00ec6c4980937dfadc9c36b404": {
      "model_module": "@jupyter-widgets/controls",
      "model_module_version": "1.5.0",
      "model_name": "ProgressStyleModel",
      "state": {
       "description_width": ""
      }
     },
     "bf6ce7b6e1e94944bee10eb6028f7b6e": {
      "model_module": "@jupyter-widgets/base",
      "model_module_version": "1.2.0",
      "model_name": "LayoutModel",
      "state": {
       "max_height": "500px",
       "overflow_y": "scroll"
      }
     },
     "c1084c94e4a54de68437e39bd94bd710": {
      "model_module": "@jupyter-widgets/controls",
      "model_module_version": "1.5.0",
      "model_name": "AccordionModel",
      "state": {
       "_titles": {
        "0": "Spark Job Progress"
       },
       "children": [
        "IPY_MODEL_7daadfb283c2468a9849b957a831cf3b"
       ],
       "layout": "IPY_MODEL_773ac255cde041018b45a79051290d6e",
       "selected_index": null
      }
     },
     "c30e4a0e1b6f483da553bcc99a0827fc": {
      "model_module": "@jupyter-widgets/controls",
      "model_module_version": "1.5.0",
      "model_name": "VBoxModel",
      "state": {
       "layout": "IPY_MODEL_f0f932cdc378416eb23dc800bda1bcdd"
      }
     },
     "c65e50b318ad4f1d9e9c1291ed276f8c": {
      "model_module": "@jupyter-widgets/base",
      "model_module_version": "1.2.0",
      "model_name": "LayoutModel",
      "state": {}
     },
     "c6d3af56588e46faa873ae966af1725f": {
      "model_module": "@jupyter-widgets/base",
      "model_module_version": "1.2.0",
      "model_name": "LayoutModel",
      "state": {}
     },
     "c7825dea078b4bbf98ba33aeb06a7769": {
      "model_module": "@jupyter-widgets/base",
      "model_module_version": "1.2.0",
      "model_name": "LayoutModel",
      "state": {
       "max_height": "500px",
       "overflow_y": "scroll"
      }
     },
     "c78d8a929b9548b8b04a9c75a3a5ccad": {
      "model_module": "@jupyter-widgets/base",
      "model_module_version": "1.2.0",
      "model_name": "LayoutModel",
      "state": {}
     },
     "cbe6133fd63a4b11810e5091c56c0322": {
      "model_module": "@jupyter-widgets/controls",
      "model_module_version": "1.5.0",
      "model_name": "VBoxModel",
      "state": {
       "children": [
        "IPY_MODEL_4d2825453f744c06bef94f210456eb1e"
       ],
       "layout": "IPY_MODEL_120b5a8d6ddb40a28c21558176e3016d"
      }
     },
     "ccab4ea8b0b6416391712f76d4cd8a33": {
      "model_module": "@jupyter-widgets/controls",
      "model_module_version": "1.5.0",
      "model_name": "AccordionModel",
      "state": {
       "_titles": {
        "0": "Spark Job Progress"
       },
       "children": [
        "IPY_MODEL_7ef50b37bf634b949ef5a542fe94c34e"
       ],
       "layout": "IPY_MODEL_885d9b9859544044ae97be745d053f9b",
       "selected_index": null
      }
     },
     "ccf41dfe1e444322b91112325f06c250": {
      "model_module": "@jupyter-widgets/controls",
      "model_module_version": "1.5.0",
      "model_name": "ProgressStyleModel",
      "state": {
       "description_width": ""
      }
     },
     "cdf14f108eb0441c8e7e674bb2cd259a": {
      "model_module": "@jupyter-widgets/base",
      "model_module_version": "1.2.0",
      "model_name": "LayoutModel",
      "state": {}
     },
     "cf858b7d29f6428c9126cbe5f51f6789": {
      "model_module": "@jupyter-widgets/controls",
      "model_module_version": "1.5.0",
      "model_name": "VBoxModel",
      "state": {
       "layout": "IPY_MODEL_b4a632187f5e40208972524829609359"
      }
     },
     "cf99aca6a01a49be990b0bb70463a1b3": {
      "model_module": "@jupyter-widgets/base",
      "model_module_version": "1.2.0",
      "model_name": "LayoutModel",
      "state": {}
     },
     "d0a1f18c250449b1a7d66dc676e60bbd": {
      "model_module": "@jupyter-widgets/base",
      "model_module_version": "1.2.0",
      "model_name": "LayoutModel",
      "state": {
       "max_height": "500px",
       "overflow_y": "scroll"
      }
     },
     "d3bf1712eb4046a6973f3d2917b0202c": {
      "model_module": "@jupyter-widgets/controls",
      "model_module_version": "1.5.0",
      "model_name": "VBoxModel",
      "state": {
       "layout": "IPY_MODEL_2c53af46c3c644f48cc314973a3c49ea"
      }
     },
     "d41901d26c964cf7814133884780c798": {
      "model_module": "@jupyter-widgets/controls",
      "model_module_version": "1.5.0",
      "model_name": "VBoxModel",
      "state": {
       "children": [
        "IPY_MODEL_fdcc4c12cb9145288ada0a2801f00c4d"
       ],
       "layout": "IPY_MODEL_5f13bb918c60405e8ba618802d5baafc"
      }
     },
     "d4c63c7a4fcc4012845e5e7bedef0b7b": {
      "model_module": "@jupyter-widgets/base",
      "model_module_version": "1.2.0",
      "model_name": "LayoutModel",
      "state": {}
     },
     "d54b00878df746ad91d35da811da03f8": {
      "model_module": "@jupyter-widgets/base",
      "model_module_version": "1.2.0",
      "model_name": "LayoutModel",
      "state": {}
     },
     "d6bdfcef2e5841cc9aee91b3c727dd7e": {
      "model_module": "@jupyter-widgets/base",
      "model_module_version": "1.2.0",
      "model_name": "LayoutModel",
      "state": {}
     },
     "d73efd580eef4b7ba5fa1d1629bcd026": {
      "model_module": "@jupyter-widgets/base",
      "model_module_version": "1.2.0",
      "model_name": "LayoutModel",
      "state": {}
     },
     "d8163d4fcc7e434a8198bd6a5be219fc": {
      "model_module": "@jupyter-widgets/base",
      "model_module_version": "1.2.0",
      "model_name": "LayoutModel",
      "state": {
       "max_height": "500px",
       "overflow_y": "scroll"
      }
     },
     "dbe215bdd3a7464cbf63196944901f1b": {
      "model_module": "@jupyter-widgets/controls",
      "model_module_version": "1.5.0",
      "model_name": "AccordionModel",
      "state": {
       "_titles": {
        "0": "Spark Job Progress"
       },
       "children": [
        "IPY_MODEL_ebe35a32e40443aaac37a54d0b81712c"
       ],
       "layout": "IPY_MODEL_1770b649bc6a49aa9e9de0977ff3ef97",
       "selected_index": null
      }
     },
     "de40bc45550547b6aee0c1af83bb7648": {
      "model_module": "@jupyter-widgets/controls",
      "model_module_version": "1.5.0",
      "model_name": "VBoxModel",
      "state": {
       "layout": "IPY_MODEL_bf6ce7b6e1e94944bee10eb6028f7b6e"
      }
     },
     "e0029fa24fa341259dcbae7d0c861a59": {
      "model_module": "@jupyter-widgets/base",
      "model_module_version": "1.2.0",
      "model_name": "LayoutModel",
      "state": {}
     },
     "e2b0a5bdd87346fba5e378f23c813ed4": {
      "model_module": "@jupyter-widgets/base",
      "model_module_version": "1.2.0",
      "model_name": "LayoutModel",
      "state": {}
     },
     "e2e75726758741249bf91a491ce19125": {
      "model_module": "@jupyter-widgets/base",
      "model_module_version": "1.2.0",
      "model_name": "LayoutModel",
      "state": {
       "height": "25px",
       "width": "50%"
      }
     },
     "e2fdc614044843918c39e8c510efa2b4": {
      "model_module": "@jupyter-widgets/controls",
      "model_module_version": "1.5.0",
      "model_name": "AccordionModel",
      "state": {
       "_titles": {
        "0": "Spark Job Progress"
       },
       "children": [
        "IPY_MODEL_ea56b9bfb026422fa1a34ddb7f165a31"
       ],
       "layout": "IPY_MODEL_6533c703b29d47348d72e9ceec763ec2",
       "selected_index": null
      }
     },
     "e48e95539c454f3485af65a030a6915b": {
      "model_module": "@jupyter-widgets/controls",
      "model_module_version": "1.5.0",
      "model_name": "VBoxModel",
      "state": {
       "children": [
        "IPY_MODEL_eeb814473ca8493b9153295d1344bb46"
       ],
       "layout": "IPY_MODEL_aaf657e365f64d02a3448a06705dc438"
      }
     },
     "e4fa482a466541fda675a736ccc8c0fb": {
      "model_module": "@jupyter-widgets/base",
      "model_module_version": "1.2.0",
      "model_name": "LayoutModel",
      "state": {
       "height": "25px",
       "width": "50%"
      }
     },
     "e5a289b7b5224fdb8b8c0ee7f11b0ccd": {
      "model_module": "@jupyter-widgets/base",
      "model_module_version": "1.2.0",
      "model_name": "LayoutModel",
      "state": {}
     },
     "e5cc674cad18494b9d67fb48e6dd6523": {
      "model_module": "@jupyter-widgets/controls",
      "model_module_version": "1.5.0",
      "model_name": "AccordionModel",
      "state": {
       "_titles": {
        "0": "Spark Job Progress"
       },
       "children": [
        "IPY_MODEL_f717323e94994a9fbb9adb9ab775f7c6"
       ],
       "layout": "IPY_MODEL_e2b0a5bdd87346fba5e378f23c813ed4",
       "selected_index": null
      }
     },
     "e820b6d7593646dd92f7ee4b5799e0b4": {
      "model_module": "@jupyter-widgets/base",
      "model_module_version": "1.2.0",
      "model_name": "LayoutModel",
      "state": {}
     },
     "e8261af42af24c30be027acf7a5035ad": {
      "model_module": "@jupyter-widgets/controls",
      "model_module_version": "1.5.0",
      "model_name": "AccordionModel",
      "state": {
       "_titles": {
        "0": "Spark Job Progress"
       },
       "children": [
        "IPY_MODEL_04d52cc4d8b94bfa929095744bc5f5b2"
       ],
       "layout": "IPY_MODEL_3c9dcb19ce004e9a962dda42ab8fc229",
       "selected_index": null
      }
     },
     "e8c3b142f9334e07a34d1683986d056c": {
      "model_module": "@jupyter-widgets/controls",
      "model_module_version": "1.5.0",
      "model_name": "ProgressStyleModel",
      "state": {
       "description_width": ""
      }
     },
     "ea56b9bfb026422fa1a34ddb7f165a31": {
      "model_module": "@jupyter-widgets/controls",
      "model_module_version": "1.5.0",
      "model_name": "VBoxModel",
      "state": {
       "children": [
        "IPY_MODEL_f0d7bbb9ca80494493c9472d3981d168"
       ],
       "layout": "IPY_MODEL_e0029fa24fa341259dcbae7d0c861a59"
      }
     },
     "ebe35a32e40443aaac37a54d0b81712c": {
      "model_module": "@jupyter-widgets/controls",
      "model_module_version": "1.5.0",
      "model_name": "VBoxModel",
      "state": {
       "children": [
        "IPY_MODEL_77f7a2b923f64de4b040abacb702c588"
       ],
       "layout": "IPY_MODEL_c6d3af56588e46faa873ae966af1725f"
      }
     },
     "ebf349d80acb4e0189b877ab5ffe92d6": {
      "model_module": "@jupyter-widgets/base",
      "model_module_version": "1.2.0",
      "model_name": "LayoutModel",
      "state": {}
     },
     "ece18ddded2d42c38ee993d2cc674b7f": {
      "model_module": "@jupyter-widgets/base",
      "model_module_version": "1.2.0",
      "model_name": "LayoutModel",
      "state": {
       "height": "25px",
       "width": "50%"
      }
     },
     "ee294b3c7ce24eb39bb5f84424884695": {
      "model_module": "@jupyter-widgets/base",
      "model_module_version": "1.2.0",
      "model_name": "LayoutModel",
      "state": {
       "height": "25px",
       "width": "50%"
      }
     },
     "eeb814473ca8493b9153295d1344bb46": {
      "model_module": "@jupyter-widgets/controls",
      "model_module_version": "1.5.0",
      "model_name": "VBoxModel",
      "state": {
       "layout": "IPY_MODEL_8c903cf894774198ba1725f3ea984532"
      }
     },
     "eeeddaa66f9247f1b1241a4b7826dcf3": {
      "model_module": "@jupyter-widgets/base",
      "model_module_version": "1.2.0",
      "model_name": "LayoutModel",
      "state": {
       "max_height": "500px",
       "overflow_y": "scroll"
      }
     },
     "f0d7bbb9ca80494493c9472d3981d168": {
      "model_module": "@jupyter-widgets/controls",
      "model_module_version": "1.5.0",
      "model_name": "VBoxModel",
      "state": {
       "layout": "IPY_MODEL_a65580c67f934fc18d9b2f62940c6b7b"
      }
     },
     "f0f932cdc378416eb23dc800bda1bcdd": {
      "model_module": "@jupyter-widgets/base",
      "model_module_version": "1.2.0",
      "model_name": "LayoutModel",
      "state": {}
     },
     "f22bac3c938742bba79bd24cd124f32f": {
      "model_module": "@jupyter-widgets/controls",
      "model_module_version": "1.5.0",
      "model_name": "VBoxModel",
      "state": {
       "layout": "IPY_MODEL_a3c493012d7348e0b1a01c19de3af658"
      }
     },
     "f54f1691c25a44849eb042e671f56b28": {
      "model_module": "@jupyter-widgets/controls",
      "model_module_version": "1.5.0",
      "model_name": "VBoxModel",
      "state": {
       "layout": "IPY_MODEL_afe803e8b866492396b2ee6f713d5e81"
      }
     },
     "f717323e94994a9fbb9adb9ab775f7c6": {
      "model_module": "@jupyter-widgets/controls",
      "model_module_version": "1.5.0",
      "model_name": "VBoxModel",
      "state": {
       "children": [
        "IPY_MODEL_a9bc1721ec064ac5b67096c8124d83d9"
       ],
       "layout": "IPY_MODEL_1ff917daba294f278634967d2a5df576"
      }
     },
     "fdcc4c12cb9145288ada0a2801f00c4d": {
      "model_module": "@jupyter-widgets/controls",
      "model_module_version": "1.5.0",
      "model_name": "VBoxModel",
      "state": {
       "layout": "IPY_MODEL_c7825dea078b4bbf98ba33aeb06a7769"
      }
     },
     "fee6d40225a94ffb875793b03d1d602e": {
      "model_module": "@jupyter-widgets/controls",
      "model_module_version": "1.5.0",
      "model_name": "VBoxModel",
      "state": {
       "children": [
        "IPY_MODEL_1f5e757f086b41ba8f57cb04be3803ba"
       ],
       "layout": "IPY_MODEL_3fa8bbf8b7a442619584cfa08f974f19"
      }
     }
    },
    "version_major": 2,
    "version_minor": 0
   }
  }
 },
 "nbformat": 4,
 "nbformat_minor": 4
}
